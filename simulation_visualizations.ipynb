{
 "cells": [
  {
   "cell_type": "code",
   "execution_count": 1,
   "metadata": {},
   "outputs": [],
   "source": [
    "import numpy as np\n",
    "import pandas as pd\n",
    "import matplotlib.pyplot as plt\n",
    "np.random.seed(29)"
   ]
  },
  {
   "cell_type": "code",
   "execution_count": 34,
   "metadata": {},
   "outputs": [],
   "source": [
    "die = [1, 2, 3, 4, 5, 6, 7, 8, 9, 10]\n",
    "\n",
    "incoming_roll = \"7k4\"\n",
    "exploding_10 = True\n",
    "exploding_9 = False\n",
    "reroll_1 = False\n",
    "\n",
    "incoming_roll = incoming_roll.split(\"k\")\n",
    "\n",
    "n_dice = int(incoming_roll[0])\n",
    "ncols = keep_n = int(incoming_roll[1])\n",
    "\n",
    "n_trials = 20_000\n",
    "\n",
    "rolls = np.random.choice(die, n_trials * n_dice).reshape(n_trials, n_dice)\n",
    "\n",
    "df = pd.DataFrame(rolls)"
   ]
  },
  {
   "cell_type": "code",
   "execution_count": 35,
   "metadata": {},
   "outputs": [],
   "source": [
    "def sum_n_highest(row, n):\n",
    "    \"\"\" \n",
    "    sorts the values in a given row, keeps the n highest numbers\n",
    "    returns the sum\n",
    "    \"\"\"\n",
    "    return row.sort_values(ascending=False)[0:n].sum().astype(int)\n",
    "\n",
    "df[\"final\"] = df.apply(lambda x: sum_n_highest(x, keep_n), axis=1)"
   ]
  },
  {
   "cell_type": "code",
   "execution_count": 36,
   "metadata": {},
   "outputs": [],
   "source": [
    "rolls = df.final"
   ]
  },
  {
   "cell_type": "code",
   "execution_count": 37,
   "metadata": {},
   "outputs": [
    {
     "data": {
      "image/png": "[encoded data removed]",
      "text/plain": [
       "<Figure size 432x288 with 1 Axes>"
      ]
     },
     "metadata": {
      "needs_background": "light"
     },
     "output_type": "display_data"
    }
   ],
   "source": [
    "plt.hist(rolls)\n",
    "plt.show()"
   ]
  },
  {
   "cell_type": "code",
   "execution_count": 42,
   "metadata": {},
   "outputs": [],
   "source": [
    "# T\n",
    "roll_to_beat = 30"
   ]
  },
  {
   "cell_type": "code",
   "execution_count": 43,
   "metadata": {},
   "outputs": [
    {
     "data": {
      "text/plain": [
       "0.4526"
      ]
     },
     "execution_count": 43,
     "metadata": {},
     "output_type": "execute_result"
    }
   ],
   "source": [
    "(rolls > roll_to_beat).sum() / 20_000"
   ]
  },
  {
   "cell_type": "code",
   "execution_count": null,
   "metadata": {},
   "outputs": [],
   "source": []
  },
  {
   "cell_type": "code",
   "execution_count": null,
   "metadata": {},
   "outputs": [],
   "source": []
  }
 ],
 "metadata": {
  "kernelspec": {
   "display_name": "Python 3",
   "language": "python",
   "name": "python3"
  },
  "language_info": {
   "codemirror_mode": {
    "name": "ipython",
    "version": 3
   },
   "file_extension": ".py",
   "mimetype": "text/x-python",
   "name": "python",
   "nbconvert_exporter": "python",
   "pygments_lexer": "ipython3",
   "version": "3.7.3"
  }
 },
 "nbformat": 4,
 "nbformat_minor": 4
}
